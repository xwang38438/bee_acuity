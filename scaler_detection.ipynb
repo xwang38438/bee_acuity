{
 "cells": [
  {
   "cell_type": "code",
   "execution_count": 1,
   "metadata": {},
   "outputs": [
    {
     "name": "stdout",
     "output_type": "stream",
     "text": [
      "Pixels per millimeter: 1.0\n"
     ]
    }
   ],
   "source": [
    "import cv2\n",
    "\n",
    "# Load the image\n",
    "img = cv2.imread('bee1.jpg')\n",
    "\n",
    "# Convert the image to grayscale\n",
    "gray = cv2.cvtColor(img, cv2.COLOR_BGR2GRAY)\n",
    "\n",
    "# Use a threshold to create a binary image, where the scale bar is white and the background is black\n",
    "ret, thresh = cv2.threshold(gray, 100, 255, cv2.THRESH_BINARY)\n",
    "\n",
    "# Find the contours of the white regions in the binary image\n",
    "contours, hierarchy = cv2.findContours(thresh, cv2.RETR_LIST, cv2.CHAIN_APPROX_SIMPLE)\n",
    "\n",
    "# Iterate through the contours\n",
    "for cnt in contours:\n",
    "    # Get the rectangle that encloses the contour\n",
    "    rect = cv2.minAreaRect(cnt)\n",
    "    # Get the width and height of the rectangle\n",
    "    width, height = rect[1]\n",
    "    # If the width is smaller than the height, this is likely the scale bar\n",
    "    if width < height:\n",
    "        # Get the pixels per millimeter by dividing the number of pixels by the known length in millimeters\n",
    "        pixels_per_millimeter = width / 1\n",
    "        print(\"Pixels per millimeter:\", pixels_per_millimeter)\n",
    "        break"
   ]
  },
  {
   "cell_type": "code",
   "execution_count": 2,
   "metadata": {},
   "outputs": [
    {
     "data": {
      "text/plain": [
       "-1"
      ]
     },
     "execution_count": 2,
     "metadata": {},
     "output_type": "execute_result"
    }
   ],
   "source": [
    "import cv2\n",
    "import numpy as np\n",
    "\n",
    "# Load the image\n",
    "img = cv2.imread('bee1.jpg')\n",
    "img = img[-1000:,:1000]\n",
    "\n",
    "# Convert the image to grayscale\n",
    "gray = cv2.cvtColor(img, cv2.COLOR_BGR2GRAY)\n",
    "\n",
    "# Use a threshold to create a binary image, where the scale bar is black and the background is white\n",
    "ret, thresh = cv2.threshold(gray, 100, 255, cv2.THRESH_BINARY_INV)\n",
    "\n",
    "# Find the contours of the black regions in the binary image\n",
    "contours, hierarchy = cv2.findContours(thresh, cv2.RETR_LIST, cv2.CHAIN_APPROX_SIMPLE)\n",
    "\n",
    "# Iterate through the contours\n",
    "for cnt in contours:\n",
    "    # Get the rectangle that encloses the contour\n",
    "    rect = cv2.minAreaRect(cnt)\n",
    "    # Get the width and height of the rectangle\n",
    "    width, height = rect[1]\n",
    "    # If the width and height are similar, this is likely the scale bar\n",
    "    if width > height-10 and width < height + 10:\n",
    "        # Draw the contour in red\n",
    "        cv2.drawContours(img,[cnt],0,(0,0,255),2)\n",
    "        # Get the rectangle coordinates\n",
    "        box = cv2.boxPoints(rect)\n",
    "        box = np.int0(box)\n",
    "        # Draw the large rectangle around the scale bar in green\n",
    "        cv2.drawContours(img,[box],0,(0,255,0),2)\n",
    "        break\n",
    "\n",
    "# Show the image with the scale bar contour\n",
    "cv2.namedWindow(\"Scale Bar\", cv2.WINDOW_NORMAL)\n",
    "cv2.imshow('Scale Bar', img)\n",
    "cv2.waitKey(0)\n",
    "\n",
    "\n"
   ]
  }
 ],
 "metadata": {
  "kernelspec": {
   "display_name": "base",
   "language": "python",
   "name": "python3"
  },
  "language_info": {
   "codemirror_mode": {
    "name": "ipython",
    "version": 3
   },
   "file_extension": ".py",
   "mimetype": "text/x-python",
   "name": "python",
   "nbconvert_exporter": "python",
   "pygments_lexer": "ipython3",
   "version": "3.9.7"
  },
  "orig_nbformat": 4,
  "vscode": {
   "interpreter": {
    "hash": "4dafbe55bc3ab19ae5ae507357fa7291f03cb770da4380122b0d301f37ec43dd"
   }
  }
 },
 "nbformat": 4,
 "nbformat_minor": 2
}
